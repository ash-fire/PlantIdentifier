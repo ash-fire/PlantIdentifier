{
  "nbformat": 4,
  "nbformat_minor": 0,
  "metadata": {
    "colab": {
      "provenance": [],
      "include_colab_link": true
    },
    "kernelspec": {
      "name": "python3",
      "display_name": "Python 3"
    },
    "accelerator": "GPU"
  },
  "cells": [
    {
      "cell_type": "markdown",
      "metadata": {
        "id": "view-in-github",
        "colab_type": "text"
      },
      "source": [
        "<a href=\"https://colab.research.google.com/github/ash-fire/PlantIdentifier/blob/main/Group2AppDeployment.ipynb\" target=\"_parent\"><img src=\"https://colab.research.google.com/assets/colab-badge.svg\" alt=\"Open In Colab\"/></a>"
      ]
    },
    {
      "cell_type": "code",
      "metadata": {
        "id": "A9zdMqluJDgn"
      },
      "source": [
        "from fastai.vision.all import *\n",
        "from fastai.vision.widgets import *"
      ],
      "execution_count": null,
      "outputs": []
    },
    {
      "cell_type": "code",
      "metadata": {
        "id": "obitad3w_UZb"
      },
      "source": [
        "learn_inf = load_learner('export.pkl')"
      ],
      "execution_count": null,
      "outputs": []
    },
    {
      "cell_type": "code",
      "metadata": {
        "id": "bNdHdYq4_7sq"
      },
      "source": [
        "btn_upload = widgets.FileUpload()"
      ],
      "execution_count": null,
      "outputs": []
    },
    {
      "cell_type": "code",
      "metadata": {
        "id": "m40M-gtwEP6V"
      },
      "source": [
        "btn_run = widgets.Button(description='Classify')"
      ],
      "execution_count": null,
      "outputs": []
    },
    {
      "cell_type": "code",
      "metadata": {
        "id": "QOOhhRguEYHJ"
      },
      "source": [
        "out_pl = widgets.Output()\n",
        "lbl_pred = widgets.Label()"
      ],
      "execution_count": null,
      "outputs": []
    },
    {
      "cell_type": "code",
      "source": [
        "fun_facts = {\n",
        "    \"California Poppy\": \"The California poppy is considered to be native to the western states of the US, such as Oregon, Nevada, Arizona, and Washington, as well as northern Mexico. This flower can also be found in Canada, Europe, Australia, and South America.\",\n",
        "    \"Prickly Pear\": \"Prickly pear cactus is a member of the Cactaceae family and is native to the Americas.\",\n",
        "    \"Coastal Live Oak\": \"A great many birds, mammals, reptiles and invertebrates utilize oak trees and oak woodlands. Oaks are among the most important wildlife plants.\",\n",
        "    \"Bay Laurel\": \"Bay laurel leaves are used in cooking for their distinctive flavor and fragrance.\",\n",
        "    \"Button Mushroom\": \"Button mushrooms are a good source of protein and vitamins B and D.\",\n",
        "    \"Madrone\": \"Madrone trees have a unique peeling bark that reveals a smooth orange-red layer underneath.\",\n",
        "    \"Ice Plant\": \"Ice plant is a succulent plant that is native to South Africa. It is an invasive species in the US and is often found near beaches. It can be very harmful to ecosystems as it disrupts the natural balance.\",\n",
        "    \"Miner's Lettuce\": \"Miner's lettuce is a wild edible green that grows in many parts of North America.\",\n",
        "    \"Saquaro\": \"The saguaro cactus is native to the Sonoran Desert in Arizona, California and Mexico.\",\n",
        "    \"Poison Oak\": \"Poison oak is a plant that can cause an allergic reaction when it comes into contact with skin.\",\n",
        "    \"Lavender\" : ' The name lavender originates from the Latin verb \"lavare,\" which means \"to wash.\"'\n",
        "}"
      ],
      "metadata": {
        "id": "kAuvF04OOfVd"
      },
      "execution_count": null,
      "outputs": []
    },
    {
      "cell_type": "code",
      "metadata": {
        "id": "sMo0_9ZEhyl8"
      },
      "source": [
        "def on_click_classify(change):\n",
        "    nl = '/n'\n",
        "    funFact = \"\"\n",
        "    img = PILImage.create(btn_upload.data[-1])\n",
        "    out_pl.clear_output()\n",
        "    with out_pl: display(img.to_thumb(128,128))\n",
        "    pred,pred_idx,probs = learn_inf.predict(img)\n",
        "    probability = probs[pred_idx] * 100\n",
        "    try:\n",
        "       funFact = fun_facts[pred]\n",
        "    except KeyError:\n",
        "        funFact = \"No Fun Fact\"\n",
        "    lbl_pred.value = f'Prediction: {pred}; Probability: {probability:.02f}%;{nl} Fun Fact: {funFact}'\n",
        "    \n",
        "btn_run.on_click(on_click_classify)"
      ],
      "execution_count": null,
      "outputs": []
    },
    {
      "cell_type": "code",
      "metadata": {
        "id": "30PYBlv-EymF"
      },
      "source": [
        "VBox([widgets.Label('Upload a picture of a plant! 2.0'), \n",
        "      btn_upload, btn_run, out_pl, lbl_pred])"
      ],
      "execution_count": null,
      "outputs": []
    }
  ]
}